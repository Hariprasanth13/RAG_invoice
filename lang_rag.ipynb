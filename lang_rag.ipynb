{
 "cells": [
  {
   "cell_type": "code",
   "execution_count": 1,
   "metadata": {},
   "outputs": [
    {
     "data": {
      "text/plain": [
       "True"
      ]
     },
     "execution_count": 1,
     "metadata": {},
     "output_type": "execute_result"
    }
   ],
   "source": [
    "from dotenv import load_dotenv,find_dotenv\n",
    "load_dotenv(find_dotenv())"
   ]
  },
  {
   "cell_type": "code",
   "execution_count": 2,
   "metadata": {},
   "outputs": [],
   "source": [
    "import os\n",
    "os.environ['LANGCHAIN_TRACING_V2'] = 'true'\n",
    "os.environ['LANGCHAIN_ENDPOINT'] = 'https://api.smith.langchain.com'\n",
    "os.environ['LANGCHAIN_API_KEY'] = os.getenv(\"LANGCHAIN_API_KEY\")\n",
    "os.environ['GROQ_API_KEY'] = os.getenv(\"GROQ_API_KEY\")"
   ]
  },
  {
   "cell_type": "code",
   "execution_count": 40,
   "metadata": {},
   "outputs": [],
   "source": [
    "import bs4\n",
    "from langchain import hub\n",
    "from langchain.text_splitter import RecursiveCharacterTextSplitter\n",
    "from langchain_community.document_loaders import WebBaseLoader\n",
    "from langchain_community.vectorstores import FAISS\n",
    "from langchain_core.output_parsers import StrOutputParser\n",
    "from langchain_core.runnables import RunnablePassthrough\n",
    "from langchain_groq import ChatGroq\n",
    "from langchain_community.embeddings import HuggingFaceBgeEmbeddings\n",
    "from langchain import PromptTemplate\n",
    "from langchain.chains import RetrievalQA"
   ]
  },
  {
   "cell_type": "code",
   "execution_count": 41,
   "metadata": {},
   "outputs": [],
   "source": [
    "# # Load documents\n",
    "\n",
    "# loader = WebBaseLoader(\n",
    "#     web_paths = (\"https://lilianweng.github.io/posts/2023-06-23-agent/\",),\n",
    "#     bs_kwargs = dict(\n",
    "#         parse_only = bs4.SoupStrainer(\n",
    "#             class_=(\"post-content\",\"post-title\",\"post-header\")\n",
    "#         )\n",
    "#     ),\n",
    "# )\n",
    "# docs = loader.load()"
   ]
  },
  {
   "cell_type": "code",
   "execution_count": null,
   "metadata": {},
   "outputs": [],
   "source": [
    "with open (r\"C:\\Projects\\Langchain\\Rag_doc\\data.txt\",'r') as f:\n",
    "    content = f.read()\n",
    "\n",
    "print(content)\n",
    "docs = content\n"
   ]
  },
  {
   "cell_type": "code",
   "execution_count": 44,
   "metadata": {},
   "outputs": [],
   "source": [
    "# split - chunking\n",
    "text_splitter = RecursiveCharacterTextSplitter(chunk_size = 1000, chunk_overlap=200)\n",
    "splits = text_splitter.split_text(docs)"
   ]
  },
  {
   "cell_type": "code",
   "execution_count": 82,
   "metadata": {},
   "outputs": [
    {
     "data": {
      "text/plain": [
       "\"Invoice Text: Invoice No. 79958 issued by Digital Works on 2024-10-01. Amount Due: $2813. Part: Circuit Board, Received: 2024-10-02. Buyer: ID 108, Olivia Green.\\nAnnotation: {'invoice_number': '79958', 'vendor_name': 'Digital Works', 'date': '2024-10-01', 'total_amount': '$2813', 'part_description': 'Circuit Board', 'date_of_reception': '2024-10-02', 'buyer_id': '108', 'buyer_name': 'Olivia Green'}\\nInvoice Text: Invoice No. 3649 issued by ABC Enterprises on 2024-10-02. Amount Due: Â£547. Part: Hydraulic Pump, Received: 2024-10-05. Buyer: ID 106, Emma Davis.\\nAnnotation: {'invoice_number': '3649', 'vendor_name': 'ABC Enterprises', 'date': '2024-10-02', 'total_amount': 'Â£547', 'part_description': 'Hydraulic Pump', 'date_of_reception': '2024-10-05', 'buyer_id': '106', 'buyer_name': 'Emma Davis'}\\nInvoice Text: Invoice No. 24580 issued by ABC Services on 2024-10-08. Amount Due: â‚¬4125. Part: Bearing Set, Received: 2024-10-09. Buyer: ID 110, Sophia Harris.\""
      ]
     },
     "execution_count": 82,
     "metadata": {},
     "output_type": "execute_result"
    }
   ],
   "source": [
    "splits[0]"
   ]
  },
  {
   "cell_type": "code",
   "execution_count": 45,
   "metadata": {},
   "outputs": [],
   "source": [
    "# Embed\n",
    "model_name = \"BAAI/bge-small-en\"\n",
    "model_kwargs = {\"device\":\"cpu\"}\n",
    "encode_kwargs = {\"normalize_embeddings\" : True}\n",
    "hf_embeddings = HuggingFaceBgeEmbeddings(\n",
    "    model_name = model_name,model_kwargs = model_kwargs,encode_kwargs =encode_kwargs\n",
    ")"
   ]
  },
  {
   "cell_type": "code",
   "execution_count": 88,
   "metadata": {},
   "outputs": [
    {
     "data": {
      "text/plain": [
       "50"
      ]
     },
     "execution_count": 88,
     "metadata": {},
     "output_type": "execute_result"
    }
   ],
   "source": [
    "len(splits)"
   ]
  },
  {
   "cell_type": "code",
   "execution_count": 87,
   "metadata": {},
   "outputs": [
    {
     "data": {
      "text/plain": [
       "(50, 384)"
      ]
     },
     "execution_count": 87,
     "metadata": {},
     "output_type": "execute_result"
    }
   ],
   "source": [
    "import numpy as np\n",
    "embeddings = hf_embeddings.embed_documents(splits)\n",
    "embeddings_np = np.array(embeddings).astype('float32')\n",
    "embeddings_np.shape"
   ]
  },
  {
   "cell_type": "code",
   "execution_count": 49,
   "metadata": {},
   "outputs": [],
   "source": [
    "vectorstore = FAISS.from_texts(\n",
    "    texts = splits,\n",
    "    embedding = hf_embeddings\n",
    ")\n",
    "retriever = vectorstore.as_retriever()"
   ]
  },
  {
   "cell_type": "code",
   "execution_count": 58,
   "metadata": {},
   "outputs": [],
   "source": [
    "prompt_template = PromptTemplate(\n",
    "    input_variables=[\"context\", \"question\"],\n",
    "    template=\"You are an expert in extracting entities from invoices. Try extracting entities from the input text with the help of sample annotation given Input invoice text = Invoice Text: Invoice No. 30001 issued by Harish Ltd. on 2024-10-07. Amount Due: $25536. Part: LED Display, Received: 2024-10-03. Buyer: ID 103, Prasanth. Use the annotations only as samples to help in the process of extracting entities on given invoice. Sample annotations: {context}, answer the question: {question}\"\n",
    ")\n",
    "\n",
    "# prompt = \"\"\"You are an expert in document extration. Answer the questions with relevant information by refering the context provided\n",
    "# {context}\n",
    "# Question :{question}\"\"\""
   ]
  },
  {
   "cell_type": "code",
   "execution_count": 64,
   "metadata": {},
   "outputs": [
    {
     "name": "stdout",
     "output_type": "stream",
     "text": [
      "4\n",
      "Text 0: Invoice Text: Invoice No. 20230 issued by Quick Solutions on 2024-10-07. Amount Due: $1622. Part: Widget A, Received: 2024-10-08. Buyer: ID 109, Henry White.\n",
      "Annotation: {'invoice_number': '20230', 'vendor_name': 'Quick Solutions', 'date': '2024-10-07', 'total_amount': '$1622', 'part_description': 'Widget A', 'date_of_reception': '2024-10-08', 'buyer_id': '109', 'buyer_name': 'Henry White'}\n",
      "Invoice Text: Invoice No. 12589 issued by Fournisseur Global on 2024-10-07. Amount Due: Â£4749. Part: Control Valve, Received: 2024-10-04. Buyer: ID 105, David Wilson.\n",
      "Annotation: {'invoice_number': '12589', 'vendor_name': 'Fournisseur Global', 'date': '2024-10-07', 'total_amount': 'Â£4749', 'part_description': 'Control Valve', 'date_of_reception': '2024-10-04', 'buyer_id': '105', 'buyer_name': 'David Wilson'}\n",
      "Invoice Text: Invoice No. 48249 issued by New Horizons LLC on 2024-10-02. Amount Due: Â£811. Part: Widget A, Received: 2024-10-03. Buyer: ID 105, David Wilson.\n",
      "Text 1: Invoice Text: Invoice No. 12019 issued by Quick Solutions on 2024-10-01. Amount Due: Â£4168. Part: Widget A, Received: 2024-10-09. Buyer: ID 110, Sophia Harris.\n",
      "Annotation: {'invoice_number': '12019', 'vendor_name': 'Quick Solutions', 'date': '2024-10-01', 'total_amount': 'Â£4168', 'part_description': 'Widget A', 'date_of_reception': '2024-10-09', 'buyer_id': '110', 'buyer_name': 'Sophia Harris'}\n",
      "Invoice Text: Invoice No. 21076 issued by XYZ Ltd. on 2024-10-05. Amount Due: Â£914. Part: LED Display, Received: 2024-10-07. Buyer: ID 109, Henry White.\n",
      "Annotation: {'invoice_number': '21076', 'vendor_name': 'XYZ Ltd.', 'date': '2024-10-05', 'total_amount': 'Â£914', 'part_description': 'LED Display', 'date_of_reception': '2024-10-07', 'buyer_id': '109', 'buyer_name': 'Henry White'}\n",
      "Invoice Text: Invoice No. 51303 issued by ABC Services on 2024-10-05. Amount Due: â‚¬797. Part: Power Supply Unit, Received: 2024-10-06. Buyer: ID 103, Bob Johnson.\n",
      "Text 2: Invoice Text: Invoice No. 64584 issued by Tech Solutions Ltd. on 2024-10-08. Amount Due: Â£1081. Part: Control Valve, Received: 2024-10-03. Buyer: ID 106, Emma Davis.\n",
      "Annotation: {'invoice_number': '64584', 'vendor_name': 'Tech Solutions Ltd.', 'date': '2024-10-08', 'total_amount': 'Â£1081', 'part_description': 'Control Valve', 'date_of_reception': '2024-10-03', 'buyer_id': '106', 'buyer_name': 'Emma Davis'}\n",
      "Invoice Text: Invoice No. 6878 issued by Digital Works on 2024-10-07. Amount Due: $1335. Part: LED Display, Received: 2024-10-02. Buyer: ID 101, John Doe.\n",
      "Annotation: {'invoice_number': '6878', 'vendor_name': 'Digital Works', 'date': '2024-10-07', 'total_amount': '$1335', 'part_description': 'LED Display', 'date_of_reception': '2024-10-02', 'buyer_id': '101', 'buyer_name': 'John Doe'}\n",
      "Invoice Text: Invoice No. 24931 issued by ABC Corporation on 2024-10-08. Amount Due: â‚¬735. Part: Air Filter, Received: 2024-10-05. Buyer: ID 102, Alice Smith.\n",
      "Text 3: Invoice Text: Invoice No. 44598 issued by ABC Enterprises on 2024-10-05. Amount Due: $1916. Part: Hydraulic Pump, Received: 2024-10-07. Buyer: ID 110, Sophia Harris.\n",
      "Annotation: {'invoice_number': '44598', 'vendor_name': 'ABC Enterprises', 'date': '2024-10-05', 'total_amount': '$1916', 'part_description': 'Hydraulic Pump', 'date_of_reception': '2024-10-07', 'buyer_id': '110', 'buyer_name': 'Sophia Harris'}\n",
      "Invoice Text: Invoice No. 28593 issued by XYZ Ltd. on 2024-10-06. Amount Due: $2536. Part: LED Display, Received: 2024-10-03. Buyer: ID 103, Bob Johnson.\n",
      "Annotation: {'invoice_number': '28593', 'vendor_name': 'XYZ Ltd.', 'date': '2024-10-06', 'total_amount': '$2536', 'part_description': 'LED Display', 'date_of_reception': '2024-10-03', 'buyer_id': '103', 'buyer_name': 'Bob Johnson'}\n"
     ]
    }
   ],
   "source": [
    "llm = ChatGroq(model = \"llama3-8b-8192\",temperature =0) # 8B parameters and 8192 input tokens\n",
    "\n",
    "# Post-processing\n",
    "\n",
    "def format_docs(docs):\n",
    "    return \"\\n\\n\".join(doc.page_content for doc in docs)\n",
    "\n",
    "#chain - Method 1\n",
    "rag_chain = RetrievalQA.from_chain_type(\n",
    "    llm,\n",
    "    retriever = retriever ,\n",
    "    return_source_documents = True,\n",
    "    chain_type_kwargs = {\"prompt\" : prompt_template }\n",
    "    \n",
    ")\n",
    "result = rag_chain({\"query\": \"What is the name of the buyer in the given invoice?\"})\n",
    "print(len(result[\"source_documents\"]))\n",
    "for i,doc in enumerate(result[\"source_documents\"]):\n",
    "    print(f\"Text {i}: {doc.page_content}\")"
   ]
  },
  {
   "cell_type": "code",
   "execution_count": 60,
   "metadata": {},
   "outputs": [
    {
     "name": "stdout",
     "output_type": "stream",
     "text": [
      "Based on the input invoice text:\n",
      "\n",
      "\"Invoice Text: Invoice No. 30001 issued by Harish Ltd. on 2024-10-07. Amount Due: $25536. Part: LED Display, Received: 2024-10-03. Buyer: ID 103, Prasanth.\"\n",
      "\n",
      "Using the sample annotations as a guide, I can extract the following entities:\n",
      "\n",
      "* Invoice Number: 30001\n",
      "* Vendor Name: Harish Ltd.\n",
      "* Date: 2024-10-07\n",
      "* Total Amount: $25536\n",
      "* Part Description: LED Display\n",
      "* Date of Reception: 2024-10-03\n",
      "* Buyer ID: 103\n",
      "* Buyer Name: Prasanth\n",
      "\n",
      "Therefore, the name of the buyer in the given invoice is Prasanth.\n"
     ]
    }
   ],
   "source": [
    "# Chain\n",
    "rag_chain = (\n",
    "    {\"context\": retriever , \"question\": RunnablePassthrough()}\n",
    "    | prompt_template\n",
    "    | llm\n",
    "    | StrOutputParser()\n",
    ")\n",
    "\n",
    "# Question\n",
    "print(rag_chain.invoke(\"What is the name of the buyer in the given invoice?\"))"
   ]
  },
  {
   "cell_type": "code",
   "execution_count": 65,
   "metadata": {},
   "outputs": [],
   "source": [
    "# Query Translation\n",
    "template = \"\"\"You are an AI language model assistant. Your task is to generate five \n",
    "different versions of the given user question to retrieve relevant documents from a vector \n",
    "database. By generating multiple perspectives on the user question, your goal is to help\n",
    "the user overcome some of the limitations of the distance-based similarity search. \n",
    "Provide these alternative questions separated by newlines. Original question: {question}\"\"\"\n",
    "prompt_template = PromptTemplate.from_template(template)\n",
    "\n",
    "generate_queries = (\n",
    "    prompt_template\n",
    "    |ChatGroq(temperature = 0)\n",
    "    |StrOutputParser()\n",
    "    |(lambda x: x.split(\"\\n\"))\n",
    ")"
   ]
  },
  {
   "cell_type": "code",
   "execution_count": 66,
   "metadata": {},
   "outputs": [
    {
     "data": {
      "text/plain": [
       "['1. \"Can you identify the buyer\\'s information from the provided invoice document?\"',\n",
       " '2. \"Could you pull out the buyer\\'s details mentioned in the given invoice text?\"',\n",
       " '3. \"Is it possible to extract the buyer\\'s particulars from the text of the invoice?\"',\n",
       " '4. \"I need to retrieve the buyer\\'s details from the invoice text - can you help?\"',\n",
       " '5. \"Search the invoice text to find and provide the buyer\\'s details, please.\"']"
      ]
     },
     "execution_count": 66,
     "metadata": {},
     "output_type": "execute_result"
    }
   ],
   "source": [
    "generate_queries.invoke(\"extract buyer details from the given invoice text\")"
   ]
  },
  {
   "cell_type": "code",
   "execution_count": 67,
   "metadata": {},
   "outputs": [],
   "source": [
    "from langchain.load import dumps,loads\n",
    "def get_unique_union(documents):\n",
    "    unique_docs = {}\n",
    "\n",
    "    for sublist in documents:\n",
    "        for doc in sublist:\n",
    "            doc_str = dumps(doc)\n",
    "\n",
    "            if doc_str not in unique_docs:\n",
    "                unique_docs[doc_str] = doc\n",
    "    return list(unique_docs.values())\n"
   ]
  },
  {
   "cell_type": "code",
   "execution_count": 79,
   "metadata": {},
   "outputs": [
    {
     "data": {
      "text/plain": [
       "11"
      ]
     },
     "execution_count": 79,
     "metadata": {},
     "output_type": "execute_result"
    }
   ],
   "source": [
    "# Retrieve\n",
    "question = \"What is the buyer id in the given invoice?\"\n",
    "retrieval_chain = (\n",
    "    generate_queries\n",
    "    |retriever.map()\n",
    "    |get_unique_union\n",
    ")\n",
    "docs = retrieval_chain.invoke({\"question\":question})\n",
    "len(docs)"
   ]
  },
  {
   "cell_type": "code",
   "execution_count": 80,
   "metadata": {},
   "outputs": [],
   "source": [
    "llm = ChatGroq(temperature = 0)"
   ]
  },
  {
   "cell_type": "code",
   "execution_count": 81,
   "metadata": {},
   "outputs": [
    {
     "data": {
      "text/plain": [
       "'The buyer id in the given invoice is 103.'"
      ]
     },
     "execution_count": 81,
     "metadata": {},
     "output_type": "execute_result"
    }
   ],
   "source": [
    "from operator import itemgetter\n",
    "template = \"\"\"You are an expert in extracting entities from invoices. Try extracting entities from the input text with the help of sample annotation given Input invoice text = Invoice Text: Invoice No. 30001 issued by Harish Ltd. on 2024-10-07. Total: $25536. Part: LED Display, Received: 2024-10-03. Identification number of buyer 103, Prasanth. Use the annotations only as samples to help in the process of extracting entities on given invoice. Sample annotations: {context}, answer the question: {question}\n",
    "Extract only the requested text and don't extract anyother data\"\"\"\n",
    "prompt_template = PromptTemplate.from_template(template)\n",
    "\n",
    "final_rag_chain = (\n",
    "    {\"context\" : retrieval_chain,\"question\":itemgetter(\"question\")}\n",
    "    |prompt_template\n",
    "    |llm\n",
    "    |StrOutputParser()\n",
    ")\n",
    "\n",
    "final_rag_chain.invoke({\"question\":question})"
   ]
  },
  {
   "cell_type": "code",
   "execution_count": null,
   "metadata": {},
   "outputs": [],
   "source": []
  }
 ],
 "metadata": {
  "kernelspec": {
   "display_name": "rag_doc_env",
   "language": "python",
   "name": "python3"
  },
  "language_info": {
   "codemirror_mode": {
    "name": "ipython",
    "version": 3
   },
   "file_extension": ".py",
   "mimetype": "text/x-python",
   "name": "python",
   "nbconvert_exporter": "python",
   "pygments_lexer": "ipython3",
   "version": "3.11.1"
  }
 },
 "nbformat": 4,
 "nbformat_minor": 2
}
