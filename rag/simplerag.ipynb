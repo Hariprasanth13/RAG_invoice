{
 "cells": [
  {
   "cell_type": "code",
   "execution_count": 6,
   "metadata": {},
   "outputs": [
    {
     "data": {
      "text/plain": [
       "[Document(metadata={'source': 'speech.txt'}, page_content='Invoice Text: \"Invoice No. 12345 issued by ABC Corporation on 2024-10-09. Amount Due: $1500. Part: Widget A, Received: 2024-10-07. Buyer: ID 101, John Doe.\"\\nAnnotation:\\n{\\n    \"invoice_number\": \"12345\",\\n    \"vendor_name\": \"ABC Corporation\",\\n    \"date\": \"2024-10-09\",\\n    \"total_amount\": \"$1500\",\\n    \"part_description\": \"Widget A\",\\n    \"date_of_reception\": \"2024-10-07\",\\n    \"buyer_id\": \"101\",\\n    \"buyer_name\": \"John Doe\"\\n}\\nInvoice Text: \"Bill ID: INV56789, Date of Issue: 09/Oct/2024, Supplier: XYZ Ltd., Total: â‚¬2500. Item: Gearbox Assembly, Received on 2024-10-05, Buyer Info: 102, Alice Smith.\"\\nAnnotation:\\n{\\n    \"invoice_number\": \"INV56789\",\\n    \"vendor_name\": \"XYZ Ltd.\",\\n    \"date\": \"2024-10-09\",\\n    \"total_amount\": \"â‚¬2500\",\\n    \"part_description\": \"Gearbox Assembly\",\\n    \"date_of_reception\": \"2024-10-05\",\\n    \"buyer_id\": \"102\",\\n    \"buyer_name\": \"Alice Smith\"\\n}\\nInvoice Text: \"Document 789012 - Supplier: Tech Solutions Ltd., Due Date: October 9, 2024, Payment Amount: $300. Part Description: Hydraulic Pump, Received: 07/10/2024. Buyer ID: 103, Buyer Name: Bob Johnson.\"\\nAnnotation:\\n{\\n    \"invoice_number\": \"789012\",\\n    \"vendor_name\": \"Tech Solutions Ltd.\",\\n    \"date\": \"2024-10-09\",\\n    \"total_amount\": \"$300\",\\n    \"part_description\": \"Hydraulic Pump\",\\n    \"date_of_reception\": \"2024-10-07\",\\n    \"buyer_id\": \"103\",\\n    \"buyer_name\": \"Bob Johnson\"\\n}\\nInvoice Text: \"Facture NÂ° 112233. SociÃ©tÃ©: Fournisseur Global, Ã‰mise le: 09-10-2024, Montant Total: 3200â‚¬. Description: Circuit Board, Reception Date: 2024-10-06. Buyer: ID 104, Claire Lee.\"\\nAnnotation:\\n{\\n    \"invoice_number\": \"112233\",\\n    \"vendor_name\": \"Fournisseur Global\",\\n    \"date\": \"2024-10-09\",\\n    \"total_amount\": \"3200â‚¬\",\\n    \"part_description\": \"Circuit Board\",\\n    \"date_of_reception\": \"2024-10-06\",\\n    \"buyer_id\": \"104\",\\n    \"buyer_name\": \"Claire Lee\"\\n}\\nInvoice Text: \"Invoice ID: 445566, Provider: GlobalTech Inc., Date: 2024/10/09, Total Amount: $4750. Part: Bearing Set, Received: 2024-10-08. Buyer Details: 105, David Wilson.\"\\nAnnotation:\\n{\\n    \"invoice_number\": \"445566\",\\n    \"vendor_name\": \"GlobalTech Inc.\",\\n    \"date\": \"2024-10-09\",\\n    \"total_amount\": \"$4750\",\\n    \"part_description\": \"Bearing Set\",\\n    \"date_of_reception\": \"2024-10-08\",\\n    \"buyer_id\": \"105\",\\n    \"buyer_name\": \"David Wilson\"\\n}\\nInvoice Text: \"Supplier: ABC Enterprises, Date: 9th October 2024, Ref No.: 554433, Total Due: $1120. Item Description: Control Valve, Received on: 2024-10-05. Buyer ID 106, Buyer: Emma Davis.\"\\nAnnotation:\\n{\\n    \"invoice_number\": \"554433\",\\n    \"vendor_name\": \"ABC Enterprises\",\\n    \"date\": \"2024-10-09\",\\n    \"total_amount\": \"$1120\",\\n    \"part_description\": \"Control Valve\",\\n    \"date_of_reception\": \"2024-10-05\",\\n    \"buyer_id\": \"106\",\\n    \"buyer_name\": \"Emma Davis\"\\n}\\nInvoice Text: \"Transaction ID: 778899, Service Provider: Quick Solutions, Date of Billing: 10-09-2024, Amount: Â£1000. Component: LED Display, Date Received: 2024-10-06. Buyer: ID 107, Michael Brown.\"\\nAnnotation:\\n{\\n    \"invoice_number\": \"778899\",\\n    \"vendor_name\": \"Quick Solutions\",\\n    \"date\": \"2024-09-10\",\\n    \"total_amount\": \"Â£1000\",\\n    \"part_description\": \"LED Display\",\\n    \"date_of_reception\": \"2024-10-06\",\\n    \"buyer_id\": \"107\",\\n    \"buyer_name\": \"Michael Brown\"\\n}\\nInvoice Text: \"Bill Number: INV-2024-0011, Billed To: ABC Services, Billing Date: 2024 October 9, Total Amount Payable: $2400. Part: Air Filter, Received on 2024-10-04. Buyer Info: 108, Olivia Green.\"\\nAnnotation:\\n{\\n    \"invoice_number\": \"INV-2024-0011\",\\n    \"vendor_name\": \"ABC Services\",\\n    \"date\": \"2024-10-09\",\\n    \"total_amount\": \"$2400\",\\n    \"part_description\": \"Air Filter\",\\n    \"date_of_reception\": \"2024-10-04\",\\n    \"buyer_id\": \"108\",\\n    \"buyer_name\": \"Olivia Green\"\\n}\\nInvoice Text: \"Doc # 998877, Client: Digital Works, Issued On: 09-10-2024, Invoice Total: â‚¬890. Part Name: Power Supply Unit, Reception Date: 2024-10-07. Buyer ID: 109, Name: Henry White.\"\\nAnnotation:\\n{\\n    \"invoice_number\": \"998877\",\\n    \"vendor_name\": \"Digital Works\",\\n    \"date\": \"2024-10-09\",\\n    \"total_amount\": \"â‚¬890\",\\n    \"part_description\": \"Power Supply Unit\",\\n    \"date_of_reception\": \"2024-10-07\",\\n    \"buyer_id\": \"109\",\\n    \"buyer_name\": \"Henry White\"\\n}\\nInvoice Text: \"Ref ID: 334455, Supplier: New Horizons LLC, Date Issued: 2024.10.09, Amount: $350. Description: Optical Sensor, Received Date: 2024-10-05. Buyer ID 110, Buyer: Sophia Harris.\"\\nAnnotation:\\n{\\n    \"invoice_number\": \"334455\",\\n    \"vendor_name\": \"New Horizons LLC\",\\n    \"date\": \"2024-10-09\",\\n    \"total_amount\": \"$350\",\\n    \"part_description\": \"Optical Sensor\",\\n    \"date_of_reception\": \"2024-10-05\",\\n    \"buyer_id\": \"110\",\\n    \"buyer_name\": \"Sophia Harris\"\\n}\\n')]"
      ]
     },
     "execution_count": 6,
     "metadata": {},
     "output_type": "execute_result"
    }
   ],
   "source": [
    "# Data ingestion\n",
    "from langchain_community.document_loaders import TextLoader\n",
    "loader = TextLoader(\"speech.txt\")\n",
    "text_documents = loader.load()\n",
    "text_documents"
   ]
  },
  {
   "cell_type": "code",
   "execution_count": 15,
   "metadata": {},
   "outputs": [],
   "source": [
    "import os\n",
    "from dotenv import load_dotenv #to load all the environment variables\n",
    "load_dotenv()\n",
    "os.environ[\"OPENAI_API_KEY\"] = os.getenv(\"OPENAI_API_KEY\")\n"
   ]
  },
  {
   "cell_type": "code",
   "execution_count": 16,
   "metadata": {},
   "outputs": [
    {
     "data": {
      "text/plain": [
       "[Document(metadata={'source': 'speech.txt'}, page_content='Invoice Text: \"Invoice No. 12345 issued by ABC Corporation on 2024-10-09. Amount Due: $1500. Part: Widget A, Received: 2024-10-07. Buyer: ID 101, John Doe.\"\\nAnnotation:\\n{\\n    \"invoice_number\": \"12345\",\\n    \"vendor_name\": \"ABC Corporation\",\\n    \"date\": \"2024-10-09\",\\n    \"total_amount\": \"$1500\",\\n    \"part_description\": \"Widget A\",\\n    \"date_of_reception\": \"2024-10-07\",\\n    \"buyer_id\": \"101\",\\n    \"buyer_name\": \"John Doe\"\\n}'),\n",
       " Document(metadata={'source': 'speech.txt'}, page_content='\"buyer_name\": \"John Doe\"\\n}\\nInvoice Text: \"Bill ID: INV56789, Date of Issue: 09/Oct/2024, Supplier: XYZ Ltd., Total: â‚¬2500. Item: Gearbox Assembly, Received on 2024-10-05, Buyer Info: 102, Alice Smith.\"\\nAnnotation:\\n{\\n    \"invoice_number\": \"INV56789\",\\n    \"vendor_name\": \"XYZ Ltd.\",\\n    \"date\": \"2024-10-09\",\\n    \"total_amount\": \"â‚¬2500\",\\n    \"part_description\": \"Gearbox Assembly\",\\n    \"date_of_reception\": \"2024-10-05\",\\n    \"buyer_id\": \"102\",\\n    \"buyer_name\": \"Alice Smith\"\\n}'),\n",
       " Document(metadata={'source': 'speech.txt'}, page_content='\"buyer_name\": \"Alice Smith\"\\n}\\nInvoice Text: \"Document 789012 - Supplier: Tech Solutions Ltd., Due Date: October 9, 2024, Payment Amount: $300. Part Description: Hydraulic Pump, Received: 07/10/2024. Buyer ID: 103, Buyer Name: Bob Johnson.\"\\nAnnotation:\\n{\\n    \"invoice_number\": \"789012\",\\n    \"vendor_name\": \"Tech Solutions Ltd.\",\\n    \"date\": \"2024-10-09\",\\n    \"total_amount\": \"$300\",\\n    \"part_description\": \"Hydraulic Pump\",\\n    \"date_of_reception\": \"2024-10-07\",\\n    \"buyer_id\": \"103\",'),\n",
       " Document(metadata={'source': 'speech.txt'}, page_content='\"buyer_id\": \"103\",\\n    \"buyer_name\": \"Bob Johnson\"\\n}\\nInvoice Text: \"Facture NÂ° 112233. SociÃ©tÃ©: Fournisseur Global, Ã‰mise le: 09-10-2024, Montant Total: 3200â‚¬. Description: Circuit Board, Reception Date: 2024-10-06. Buyer: ID 104, Claire Lee.\"\\nAnnotation:\\n{\\n    \"invoice_number\": \"112233\",\\n    \"vendor_name\": \"Fournisseur Global\",\\n    \"date\": \"2024-10-09\",\\n    \"total_amount\": \"3200â‚¬\",\\n    \"part_description\": \"Circuit Board\",\\n    \"date_of_reception\": \"2024-10-06\",'),\n",
       " Document(metadata={'source': 'speech.txt'}, page_content='\"date_of_reception\": \"2024-10-06\",\\n    \"buyer_id\": \"104\",\\n    \"buyer_name\": \"Claire Lee\"\\n}\\nInvoice Text: \"Invoice ID: 445566, Provider: GlobalTech Inc., Date: 2024/10/09, Total Amount: $4750. Part: Bearing Set, Received: 2024-10-08. Buyer Details: 105, David Wilson.\"\\nAnnotation:\\n{\\n    \"invoice_number\": \"445566\",\\n    \"vendor_name\": \"GlobalTech Inc.\",\\n    \"date\": \"2024-10-09\",\\n    \"total_amount\": \"$4750\",\\n    \"part_description\": \"Bearing Set\",\\n    \"date_of_reception\": \"2024-10-08\",'),\n",
       " Document(metadata={'source': 'speech.txt'}, page_content='\"date_of_reception\": \"2024-10-08\",\\n    \"buyer_id\": \"105\",\\n    \"buyer_name\": \"David Wilson\"\\n}\\nInvoice Text: \"Supplier: ABC Enterprises, Date: 9th October 2024, Ref No.: 554433, Total Due: $1120. Item Description: Control Valve, Received on: 2024-10-05. Buyer ID 106, Buyer: Emma Davis.\"\\nAnnotation:\\n{\\n    \"invoice_number\": \"554433\",\\n    \"vendor_name\": \"ABC Enterprises\",\\n    \"date\": \"2024-10-09\",\\n    \"total_amount\": \"$1120\",\\n    \"part_description\": \"Control Valve\",'),\n",
       " Document(metadata={'source': 'speech.txt'}, page_content='\"part_description\": \"Control Valve\",\\n    \"date_of_reception\": \"2024-10-05\",\\n    \"buyer_id\": \"106\",\\n    \"buyer_name\": \"Emma Davis\"\\n}\\nInvoice Text: \"Transaction ID: 778899, Service Provider: Quick Solutions, Date of Billing: 10-09-2024, Amount: Â£1000. Component: LED Display, Date Received: 2024-10-06. Buyer: ID 107, Michael Brown.\"\\nAnnotation:\\n{\\n    \"invoice_number\": \"778899\",\\n    \"vendor_name\": \"Quick Solutions\",\\n    \"date\": \"2024-09-10\",\\n    \"total_amount\": \"Â£1000\",'),\n",
       " Document(metadata={'source': 'speech.txt'}, page_content='\"total_amount\": \"Â£1000\",\\n    \"part_description\": \"LED Display\",\\n    \"date_of_reception\": \"2024-10-06\",\\n    \"buyer_id\": \"107\",\\n    \"buyer_name\": \"Michael Brown\"\\n}\\nInvoice Text: \"Bill Number: INV-2024-0011, Billed To: ABC Services, Billing Date: 2024 October 9, Total Amount Payable: $2400. Part: Air Filter, Received on 2024-10-04. Buyer Info: 108, Olivia Green.\"\\nAnnotation:\\n{\\n    \"invoice_number\": \"INV-2024-0011\",\\n    \"vendor_name\": \"ABC Services\",\\n    \"date\": \"2024-10-09\",'),\n",
       " Document(metadata={'source': 'speech.txt'}, page_content='\"date\": \"2024-10-09\",\\n    \"total_amount\": \"$2400\",\\n    \"part_description\": \"Air Filter\",\\n    \"date_of_reception\": \"2024-10-04\",\\n    \"buyer_id\": \"108\",\\n    \"buyer_name\": \"Olivia Green\"\\n}\\nInvoice Text: \"Doc # 998877, Client: Digital Works, Issued On: 09-10-2024, Invoice Total: â‚¬890. Part Name: Power Supply Unit, Reception Date: 2024-10-07. Buyer ID: 109, Name: Henry White.\"\\nAnnotation:\\n{\\n    \"invoice_number\": \"998877\",\\n    \"vendor_name\": \"Digital Works\",\\n    \"date\": \"2024-10-09\",'),\n",
       " Document(metadata={'source': 'speech.txt'}, page_content='\"date\": \"2024-10-09\",\\n    \"total_amount\": \"â‚¬890\",\\n    \"part_description\": \"Power Supply Unit\",\\n    \"date_of_reception\": \"2024-10-07\",\\n    \"buyer_id\": \"109\",\\n    \"buyer_name\": \"Henry White\"\\n}\\nInvoice Text: \"Ref ID: 334455, Supplier: New Horizons LLC, Date Issued: 2024.10.09, Amount: $350. Description: Optical Sensor, Received Date: 2024-10-05. Buyer ID 110, Buyer: Sophia Harris.\"\\nAnnotation:\\n{\\n    \"invoice_number\": \"334455\",\\n    \"vendor_name\": \"New Horizons LLC\",\\n    \"date\": \"2024-10-09\",'),\n",
       " Document(metadata={'source': 'speech.txt'}, page_content='\"date\": \"2024-10-09\",\\n    \"total_amount\": \"$350\",\\n    \"part_description\": \"Optical Sensor\",\\n    \"date_of_reception\": \"2024-10-05\",\\n    \"buyer_id\": \"110\",\\n    \"buyer_name\": \"Sophia Harris\"\\n}')]"
      ]
     },
     "execution_count": 16,
     "metadata": {},
     "output_type": "execute_result"
    }
   ],
   "source": [
    "from langchain.text_splitter import RecursiveCharacterTextSplitter\n",
    "text_splitter = RecursiveCharacterTextSplitter(chunk_size =500,chunk_overlap=50)\n",
    "documents = text_splitter.split_documents(text_documents)\n",
    "documents"
   ]
  },
  {
   "cell_type": "code",
   "execution_count": 22,
   "metadata": {},
   "outputs": [
    {
     "name": "stderr",
     "output_type": "stream",
     "text": [
      "C:\\Users\\z031415\\AppData\\Local\\Temp\\ipykernel_26600\\4122392767.py:7: LangChainDeprecationWarning: The class `Chroma` was deprecated in LangChain 0.2.9 and will be removed in 1.0. An updated version of the class exists in the :class:`~langchain-chroma package and should be used instead. To use it run `pip install -U :class:`~langchain-chroma` and import as `from :class:`~langchain_chroma import Chroma``.\n",
      "  db = Chroma()\n"
     ]
    },
    {
     "ename": "ValueError",
     "evalue": "You must provide an embedding function to compute embeddings.https://docs.trychroma.com/guides/embeddings",
     "output_type": "error",
     "traceback": [
      "\u001b[1;31m---------------------------------------------------------------------------\u001b[0m",
      "\u001b[1;31mValueError\u001b[0m                                Traceback (most recent call last)",
      "Cell \u001b[1;32mIn[22], line 12\u001b[0m\n\u001b[0;32m     10\u001b[0m texts \u001b[38;5;241m=\u001b[39m [doc\u001b[38;5;241m.\u001b[39mpage_content \u001b[38;5;28;01mfor\u001b[39;00m doc \u001b[38;5;129;01min\u001b[39;00m documents]\n\u001b[0;32m     11\u001b[0m metadatas \u001b[38;5;241m=\u001b[39m [doc\u001b[38;5;241m.\u001b[39mmetadata \u001b[38;5;28;01mfor\u001b[39;00m doc \u001b[38;5;129;01min\u001b[39;00m documents]\n\u001b[1;32m---> 12\u001b[0m \u001b[43mdb\u001b[49m\u001b[38;5;241;43m.\u001b[39;49m\u001b[43madd_texts\u001b[49m\u001b[43m(\u001b[49m\u001b[43mtexts\u001b[49m\u001b[38;5;241;43m=\u001b[39;49m\u001b[43mtexts\u001b[49m\u001b[43m,\u001b[49m\u001b[43m \u001b[49m\u001b[43membeddings\u001b[49m\u001b[38;5;241;43m=\u001b[39;49m\u001b[43membeddings\u001b[49m\u001b[43m,\u001b[49m\u001b[43m \u001b[49m\u001b[43mmetadatas\u001b[49m\u001b[38;5;241;43m=\u001b[39;49m\u001b[43mmetadatas\u001b[49m\u001b[43m)\u001b[49m\n",
      "File \u001b[1;32mc:\\Projects\\Langchain\\myenv\\Lib\\site-packages\\langchain_community\\vectorstores\\chroma.py:313\u001b[0m, in \u001b[0;36mChroma.add_texts\u001b[1;34m(self, texts, metadatas, ids, **kwargs)\u001b[0m\n\u001b[0;32m    311\u001b[0m             \u001b[38;5;28;01mraise\u001b[39;00m \u001b[38;5;167;01mValueError\u001b[39;00m(e\u001b[38;5;241m.\u001b[39margs[\u001b[38;5;241m0\u001b[39m] \u001b[38;5;241m+\u001b[39m \u001b[38;5;124m\"\u001b[39m\u001b[38;5;130;01m\\n\u001b[39;00m\u001b[38;5;130;01m\\n\u001b[39;00m\u001b[38;5;124m\"\u001b[39m \u001b[38;5;241m+\u001b[39m msg)\n\u001b[0;32m    312\u001b[0m         \u001b[38;5;28;01melse\u001b[39;00m:\n\u001b[1;32m--> 313\u001b[0m             \u001b[38;5;28;01mraise\u001b[39;00m e\n\u001b[0;32m    314\u001b[0m \u001b[38;5;28;01mif\u001b[39;00m empty_ids:\n\u001b[0;32m    315\u001b[0m     texts_without_metadatas \u001b[38;5;241m=\u001b[39m [texts[j] \u001b[38;5;28;01mfor\u001b[39;00m j \u001b[38;5;129;01min\u001b[39;00m empty_ids]\n",
      "File \u001b[1;32mc:\\Projects\\Langchain\\myenv\\Lib\\site-packages\\langchain_community\\vectorstores\\chroma.py:299\u001b[0m, in \u001b[0;36mChroma.add_texts\u001b[1;34m(self, texts, metadatas, ids, **kwargs)\u001b[0m\n\u001b[0;32m    297\u001b[0m ids_with_metadata \u001b[38;5;241m=\u001b[39m [ids[idx] \u001b[38;5;28;01mfor\u001b[39;00m idx \u001b[38;5;129;01min\u001b[39;00m non_empty_ids]\n\u001b[0;32m    298\u001b[0m \u001b[38;5;28;01mtry\u001b[39;00m:\n\u001b[1;32m--> 299\u001b[0m     \u001b[38;5;28;43mself\u001b[39;49m\u001b[38;5;241;43m.\u001b[39;49m\u001b[43m_collection\u001b[49m\u001b[38;5;241;43m.\u001b[39;49m\u001b[43mupsert\u001b[49m\u001b[43m(\u001b[49m\n\u001b[0;32m    300\u001b[0m \u001b[43m        \u001b[49m\u001b[43mmetadatas\u001b[49m\u001b[38;5;241;43m=\u001b[39;49m\u001b[43mmetadatas\u001b[49m\u001b[43m,\u001b[49m\n\u001b[0;32m    301\u001b[0m \u001b[43m        \u001b[49m\u001b[43membeddings\u001b[49m\u001b[38;5;241;43m=\u001b[39;49m\u001b[43membeddings_with_metadatas\u001b[49m\u001b[43m,\u001b[49m\n\u001b[0;32m    302\u001b[0m \u001b[43m        \u001b[49m\u001b[43mdocuments\u001b[49m\u001b[38;5;241;43m=\u001b[39;49m\u001b[43mtexts_with_metadatas\u001b[49m\u001b[43m,\u001b[49m\n\u001b[0;32m    303\u001b[0m \u001b[43m        \u001b[49m\u001b[43mids\u001b[49m\u001b[38;5;241;43m=\u001b[39;49m\u001b[43mids_with_metadata\u001b[49m\u001b[43m,\u001b[49m\n\u001b[0;32m    304\u001b[0m \u001b[43m    \u001b[49m\u001b[43m)\u001b[49m\n\u001b[0;32m    305\u001b[0m \u001b[38;5;28;01mexcept\u001b[39;00m \u001b[38;5;167;01mValueError\u001b[39;00m \u001b[38;5;28;01mas\u001b[39;00m e:\n\u001b[0;32m    306\u001b[0m     \u001b[38;5;28;01mif\u001b[39;00m \u001b[38;5;124m\"\u001b[39m\u001b[38;5;124mExpected metadata value to be\u001b[39m\u001b[38;5;124m\"\u001b[39m \u001b[38;5;129;01min\u001b[39;00m \u001b[38;5;28mstr\u001b[39m(e):\n",
      "File \u001b[1;32mc:\\Projects\\Langchain\\myenv\\Lib\\site-packages\\chromadb\\api\\models\\Collection.py:298\u001b[0m, in \u001b[0;36mCollection.upsert\u001b[1;34m(self, ids, embeddings, metadatas, documents, images, uris)\u001b[0m\n\u001b[0;32m    267\u001b[0m \u001b[38;5;28;01mdef\u001b[39;00m \u001b[38;5;21mupsert\u001b[39m(\n\u001b[0;32m    268\u001b[0m     \u001b[38;5;28mself\u001b[39m,\n\u001b[0;32m    269\u001b[0m     ids: OneOrMany[ID],\n\u001b[1;32m   (...)\u001b[0m\n\u001b[0;32m    279\u001b[0m     uris: Optional[OneOrMany[URI]] \u001b[38;5;241m=\u001b[39m \u001b[38;5;28;01mNone\u001b[39;00m,\n\u001b[0;32m    280\u001b[0m ) \u001b[38;5;241m-\u001b[39m\u001b[38;5;241m>\u001b[39m \u001b[38;5;28;01mNone\u001b[39;00m:\n\u001b[0;32m    281\u001b[0m \u001b[38;5;250m    \u001b[39m\u001b[38;5;124;03m\"\"\"Update the embeddings, metadatas or documents for provided ids, or create them if they don't exist.\u001b[39;00m\n\u001b[0;32m    282\u001b[0m \n\u001b[0;32m    283\u001b[0m \u001b[38;5;124;03m    Args:\u001b[39;00m\n\u001b[1;32m   (...)\u001b[0m\n\u001b[0;32m    290\u001b[0m \u001b[38;5;124;03m        None\u001b[39;00m\n\u001b[0;32m    291\u001b[0m \u001b[38;5;124;03m    \"\"\"\u001b[39;00m\n\u001b[0;32m    292\u001b[0m     (\n\u001b[0;32m    293\u001b[0m         ids,\n\u001b[0;32m    294\u001b[0m         embeddings,\n\u001b[0;32m    295\u001b[0m         metadatas,\n\u001b[0;32m    296\u001b[0m         documents,\n\u001b[0;32m    297\u001b[0m         uris,\n\u001b[1;32m--> 298\u001b[0m     ) \u001b[38;5;241m=\u001b[39m \u001b[38;5;28;43mself\u001b[39;49m\u001b[38;5;241;43m.\u001b[39;49m\u001b[43m_validate_and_prepare_upsert_request\u001b[49m\u001b[43m(\u001b[49m\n\u001b[0;32m    299\u001b[0m \u001b[43m        \u001b[49m\u001b[43mids\u001b[49m\u001b[43m,\u001b[49m\u001b[43m \u001b[49m\u001b[43membeddings\u001b[49m\u001b[43m,\u001b[49m\u001b[43m \u001b[49m\u001b[43mmetadatas\u001b[49m\u001b[43m,\u001b[49m\u001b[43m \u001b[49m\u001b[43mdocuments\u001b[49m\u001b[43m,\u001b[49m\u001b[43m \u001b[49m\u001b[43mimages\u001b[49m\u001b[43m,\u001b[49m\u001b[43m \u001b[49m\u001b[43muris\u001b[49m\n\u001b[0;32m    300\u001b[0m \u001b[43m    \u001b[49m\u001b[43m)\u001b[49m\n\u001b[0;32m    302\u001b[0m     \u001b[38;5;28mself\u001b[39m\u001b[38;5;241m.\u001b[39m_client\u001b[38;5;241m.\u001b[39m_upsert(\n\u001b[0;32m    303\u001b[0m         collection_id\u001b[38;5;241m=\u001b[39m\u001b[38;5;28mself\u001b[39m\u001b[38;5;241m.\u001b[39mid,\n\u001b[0;32m    304\u001b[0m         ids\u001b[38;5;241m=\u001b[39mids,\n\u001b[1;32m   (...)\u001b[0m\n\u001b[0;32m    308\u001b[0m         uris\u001b[38;5;241m=\u001b[39muris,\n\u001b[0;32m    309\u001b[0m     )\n",
      "File \u001b[1;32mc:\\Projects\\Langchain\\myenv\\Lib\\site-packages\\chromadb\\api\\models\\CollectionCommon.py:546\u001b[0m, in \u001b[0;36mCollectionCommon._validate_and_prepare_upsert_request\u001b[1;34m(self, ids, embeddings, metadatas, documents, images, uris)\u001b[0m\n\u001b[0;32m    544\u001b[0m \u001b[38;5;28;01mif\u001b[39;00m embeddings \u001b[38;5;129;01mis\u001b[39;00m \u001b[38;5;28;01mNone\u001b[39;00m:\n\u001b[0;32m    545\u001b[0m     \u001b[38;5;28;01mif\u001b[39;00m documents \u001b[38;5;129;01mis\u001b[39;00m \u001b[38;5;129;01mnot\u001b[39;00m \u001b[38;5;28;01mNone\u001b[39;00m:\n\u001b[1;32m--> 546\u001b[0m         embeddings \u001b[38;5;241m=\u001b[39m \u001b[38;5;28;43mself\u001b[39;49m\u001b[38;5;241;43m.\u001b[39;49m\u001b[43m_embed\u001b[49m\u001b[43m(\u001b[49m\u001b[38;5;28;43minput\u001b[39;49m\u001b[38;5;241;43m=\u001b[39;49m\u001b[43mdocuments\u001b[49m\u001b[43m)\u001b[49m\n\u001b[0;32m    547\u001b[0m     \u001b[38;5;28;01melse\u001b[39;00m:\n\u001b[0;32m    548\u001b[0m         embeddings \u001b[38;5;241m=\u001b[39m \u001b[38;5;28mself\u001b[39m\u001b[38;5;241m.\u001b[39m_embed(\u001b[38;5;28minput\u001b[39m\u001b[38;5;241m=\u001b[39mimages)\n",
      "File \u001b[1;32mc:\\Projects\\Langchain\\myenv\\Lib\\site-packages\\chromadb\\api\\models\\CollectionCommon.py:577\u001b[0m, in \u001b[0;36mCollectionCommon._embed\u001b[1;34m(self, input)\u001b[0m\n\u001b[0;32m    575\u001b[0m \u001b[38;5;28;01mdef\u001b[39;00m \u001b[38;5;21m_embed\u001b[39m(\u001b[38;5;28mself\u001b[39m, \u001b[38;5;28minput\u001b[39m: Any) \u001b[38;5;241m-\u001b[39m\u001b[38;5;241m>\u001b[39m Embeddings:\n\u001b[0;32m    576\u001b[0m     \u001b[38;5;28;01mif\u001b[39;00m \u001b[38;5;28mself\u001b[39m\u001b[38;5;241m.\u001b[39m_embedding_function \u001b[38;5;129;01mis\u001b[39;00m \u001b[38;5;28;01mNone\u001b[39;00m:\n\u001b[1;32m--> 577\u001b[0m         \u001b[38;5;28;01mraise\u001b[39;00m \u001b[38;5;167;01mValueError\u001b[39;00m(\n\u001b[0;32m    578\u001b[0m             \u001b[38;5;124m\"\u001b[39m\u001b[38;5;124mYou must provide an embedding function to compute embeddings.\u001b[39m\u001b[38;5;124m\"\u001b[39m\n\u001b[0;32m    579\u001b[0m             \u001b[38;5;124m\"\u001b[39m\u001b[38;5;124mhttps://docs.trychroma.com/guides/embeddings\u001b[39m\u001b[38;5;124m\"\u001b[39m\n\u001b[0;32m    580\u001b[0m         )\n\u001b[0;32m    581\u001b[0m     \u001b[38;5;28;01mreturn\u001b[39;00m \u001b[38;5;28mself\u001b[39m\u001b[38;5;241m.\u001b[39m_embedding_function(\u001b[38;5;28minput\u001b[39m\u001b[38;5;241m=\u001b[39m\u001b[38;5;28minput\u001b[39m)\n",
      "\u001b[1;31mValueError\u001b[0m: You must provide an embedding function to compute embeddings.https://docs.trychroma.com/guides/embeddings"
     ]
    }
   ],
   "source": [
    "#from langchain_community.embeddings import OpenAIEmbeddings\n",
    "from sentence_transformers import SentenceTransformer\n",
    "from langchain_community.vectorstores import Chroma\n",
    "model = SentenceTransformer('all-MiniLM-L6-v2')\n",
    "embeddings = [ model.encode(doc.page_content) for doc in documents]\n",
    "#db = Chroma.from_embeddings(documents,embeddings)\n",
    "db = Chroma()"
   ]
  },
  {
   "cell_type": "code",
   "execution_count": null,
   "metadata": {},
   "outputs": [],
   "source": []
  }
 ],
 "metadata": {
  "kernelspec": {
   "display_name": "myenv",
   "language": "python",
   "name": "python3"
  },
  "language_info": {
   "codemirror_mode": {
    "name": "ipython",
    "version": 3
   },
   "file_extension": ".py",
   "mimetype": "text/x-python",
   "name": "python",
   "nbconvert_exporter": "python",
   "pygments_lexer": "ipython3",
   "version": "3.11.1"
  }
 },
 "nbformat": 4,
 "nbformat_minor": 2
}
